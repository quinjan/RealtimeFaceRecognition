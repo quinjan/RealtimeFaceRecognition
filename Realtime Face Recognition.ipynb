{
 "cells": [
  {
   "cell_type": "markdown",
   "id": "bdb1754a",
   "metadata": {},
   "source": [
    "# Realtime Face Recogntion using OpenCV"
   ]
  },
  {
   "cell_type": "code",
   "execution_count": 1,
   "id": "994ed623",
   "metadata": {},
   "outputs": [],
   "source": [
    "from PIL import Image\n",
    "from keras.applications.vgg16 import preprocess_input\n",
    "import base64\n",
    "from io import BytesIO\n",
    "import json\n",
    "import random\n",
    "import cv2\n",
    "from keras.models import load_model\n",
    "import numpy as np\n",
    "from keras.preprocessing import image"
   ]
  },
  {
   "cell_type": "markdown",
   "id": "815920a9",
   "metadata": {},
   "source": [
    "## Load models to be used"
   ]
  },
  {
   "cell_type": "code",
   "execution_count": 2,
   "id": "6cdb10eb",
   "metadata": {},
   "outputs": [],
   "source": [
    "# Looadind the previously trained model\n",
    "model = load_model('facefeatures_new_model.h5')\n",
    "\n",
    "# Loading the cascades\n",
    "face_cascade = cv2.CascadeClassifier('haarcascade_frontalface_default.xml')"
   ]
  },
  {
   "cell_type": "markdown",
   "id": "06a0c0d3",
   "metadata": {},
   "source": [
    "## Draw Rectangle Each face"
   ]
  },
  {
   "cell_type": "code",
   "execution_count": 9,
   "id": "01ba2c5e",
   "metadata": {},
   "outputs": [],
   "source": [
    "def draw_boundary(img,classifier,scaleFactor,minNeighbors,color,model):\n",
    "    #gray = cv2.cvtColor(img,cv2.COLOR_BGR2GRAY)\n",
    "    features = classifier.detectMultiScale(img, scaleFactor, minNeighbors)\n",
    "    \n",
    "    coords=[]\n",
    "    \n",
    "    for (x,y,w,h) in features:\n",
    "        cv2.rectangle(img,(x,y),(x+w,y+h),color,2)\n",
    "        face = img[y:y+h, x:x+w]\n",
    "        face = cv2.resize(face, (224, 224))\n",
    "        im = Image.fromarray(face, 'RGB')\n",
    "           #Resizing into 128x128 because we trained the model with this image size.\n",
    "        img_array = np.array(im)\n",
    "                    #Our keras model used a 4D tensor, (images x height x width x channel)\n",
    "                    #So changing dimension 128x128x3 into 1x128x128x3 \n",
    "        img_array = np.expand_dims(img_array, axis=0)\n",
    "        pred = model.predict(img_array)\n",
    "        \n",
    "        if (pred[0][0]>0.7):\n",
    "            name='Kuku'\n",
    "            cv2.putText(img,name, (x, y-5), cv2.FONT_HERSHEY_COMPLEX, 0.8, (0,255,0), 2)\n",
    "        elif (pred[0][1]>0.7):\n",
    "            name='Julienne'\n",
    "            cv2.putText(img,name, (x, y-5), cv2.FONT_HERSHEY_COMPLEX, 0.8, (0,255,0), 2)\n",
    "        else:\n",
    "            cv2.putText(img,'Unknown', (x, y-5), cv2.FONT_HERSHEY_COMPLEX, 0.8, (0,255,0), 2)\n",
    "        \n",
    "        coords = [x,y,w,h]\n",
    "    \n",
    "    return coords"
   ]
  },
  {
   "cell_type": "markdown",
   "id": "c4d16815",
   "metadata": {},
   "source": [
    "## Recognize Function"
   ]
  },
  {
   "cell_type": "code",
   "execution_count": 10,
   "id": "65cb3a85",
   "metadata": {},
   "outputs": [],
   "source": [
    "def recognize(img,model,faceCascade):\n",
    "    coords = draw_boundary(img,faceCascade,1.3,5,(255,255,255),model)\n",
    "    return img"
   ]
  },
  {
   "cell_type": "markdown",
   "id": "e9861667",
   "metadata": {},
   "source": [
    "## Classify Face per Frame"
   ]
  },
  {
   "cell_type": "code",
   "execution_count": 11,
   "id": "89e7b493",
   "metadata": {},
   "outputs": [],
   "source": [
    "video_capture = cv2.VideoCapture(0)\n",
    "while True:\n",
    "    _, frame = video_capture.read()\n",
    "    img = recognize(frame,model,face_cascade)\n",
    "    cv2.imshow('Face Recognition', frame)\n",
    "    \n",
    "    if cv2.waitKey(1) & 0xFF == ord('q'):\n",
    "        break\n",
    "        \n",
    "        \n",
    "video_capture.release()\n",
    "cv2.destroyAllWindows()\n"
   ]
  },
  {
   "cell_type": "code",
   "execution_count": null,
   "id": "5be90483",
   "metadata": {},
   "outputs": [],
   "source": []
  },
  {
   "cell_type": "code",
   "execution_count": null,
   "id": "c0d8b745",
   "metadata": {},
   "outputs": [],
   "source": []
  }
 ],
 "metadata": {
  "kernelspec": {
   "display_name": "Python 3",
   "language": "python",
   "name": "python3"
  },
  "language_info": {
   "codemirror_mode": {
    "name": "ipython",
    "version": 3
   },
   "file_extension": ".py",
   "mimetype": "text/x-python",
   "name": "python",
   "nbconvert_exporter": "python",
   "pygments_lexer": "ipython3",
   "version": "3.8.8"
  }
 },
 "nbformat": 4,
 "nbformat_minor": 5
}
